{
 "cells": [
  {
   "cell_type": "code",
   "execution_count": 3,
   "metadata": {},
   "outputs": [
    {
     "name": "stdout",
     "output_type": "stream",
     "text": [
      "Collecting opencv-python\n",
      "  Downloading opencv_python-4.8.1.78-cp37-abi3-win_amd64.whl (38.1 MB)\n",
      "                                              0.0/38.1 MB ? eta -:--:--\n",
      "                                              0.5/38.1 MB 13.8 MB/s eta 0:00:03\n",
      "     -                                        1.6/38.1 MB 20.7 MB/s eta 0:00:02\n",
      "     --                                       2.8/38.1 MB 25.5 MB/s eta 0:00:02\n",
      "     ----                                     4.3/38.1 MB 24.7 MB/s eta 0:00:02\n",
      "     --------                                 7.7/38.1 MB 34.9 MB/s eta 0:00:01\n",
      "     ---------                                9.0/38.1 MB 33.8 MB/s eta 0:00:01\n",
      "     ----------                              10.6/38.1 MB 36.4 MB/s eta 0:00:01\n",
      "     ------------                            12.4/38.1 MB 38.5 MB/s eta 0:00:01\n",
      "     --------------                          13.8/38.1 MB 38.5 MB/s eta 0:00:01\n",
      "     ---------------                         15.5/38.1 MB 38.6 MB/s eta 0:00:01\n",
      "     -----------------                       16.9/38.1 MB 34.4 MB/s eta 0:00:01\n",
      "     ------------------                      18.5/38.1 MB 34.4 MB/s eta 0:00:01\n",
      "     --------------------                    19.9/38.1 MB 32.8 MB/s eta 0:00:01\n",
      "     ---------------------                   21.1/38.1 MB 32.7 MB/s eta 0:00:01\n",
      "     -----------------------                 22.5/38.1 MB 31.2 MB/s eta 0:00:01\n",
      "     ------------------------                23.6/38.1 MB 31.2 MB/s eta 0:00:01\n",
      "     --------------------------              25.6/38.1 MB 31.1 MB/s eta 0:00:01\n",
      "     ---------------------------             26.7/38.1 MB 31.2 MB/s eta 0:00:01\n",
      "     ---------------------------             26.9/38.1 MB 27.3 MB/s eta 0:00:01\n",
      "     ---------------------------             27.1/38.1 MB 24.2 MB/s eta 0:00:01\n",
      "     -----------------------------           28.5/38.1 MB 24.2 MB/s eta 0:00:01\n",
      "     ------------------------------          29.7/38.1 MB 23.4 MB/s eta 0:00:01\n",
      "     -------------------------------         30.9/38.1 MB 23.4 MB/s eta 0:00:01\n",
      "     --------------------------------        32.0/38.1 MB 22.6 MB/s eta 0:00:01\n",
      "     ---------------------------------       33.1/38.1 MB 22.5 MB/s eta 0:00:01\n",
      "     -----------------------------------     34.4/38.1 MB 22.6 MB/s eta 0:00:01\n",
      "     ------------------------------------    35.4/38.1 MB 21.9 MB/s eta 0:00:01\n",
      "     -------------------------------------   36.5/38.1 MB 21.1 MB/s eta 0:00:01\n",
      "     --------------------------------------  37.6/38.1 MB 25.2 MB/s eta 0:00:01\n",
      "     --------------------------------------  38.0/38.1 MB 24.2 MB/s eta 0:00:01\n",
      "     --------------------------------------  38.0/38.1 MB 24.2 MB/s eta 0:00:01\n",
      "     --------------------------------------  38.0/38.1 MB 24.2 MB/s eta 0:00:01\n",
      "     --------------------------------------  38.0/38.1 MB 24.2 MB/s eta 0:00:01\n",
      "     --------------------------------------  38.0/38.1 MB 24.2 MB/s eta 0:00:01\n",
      "     --------------------------------------  38.0/38.1 MB 24.2 MB/s eta 0:00:01\n",
      "     --------------------------------------  38.0/38.1 MB 24.2 MB/s eta 0:00:01\n",
      "     --------------------------------------  38.0/38.1 MB 24.2 MB/s eta 0:00:01\n",
      "     --------------------------------------  38.0/38.1 MB 24.2 MB/s eta 0:00:01\n",
      "     --------------------------------------  38.0/38.1 MB 24.2 MB/s eta 0:00:01\n",
      "     --------------------------------------  38.1/38.1 MB 11.5 MB/s eta 0:00:01\n",
      "     --------------------------------------  38.1/38.1 MB 11.5 MB/s eta 0:00:01\n",
      "     --------------------------------------  38.1/38.1 MB 11.5 MB/s eta 0:00:01\n",
      "     --------------------------------------  38.1/38.1 MB 11.5 MB/s eta 0:00:01\n",
      "     --------------------------------------  38.1/38.1 MB 11.5 MB/s eta 0:00:01\n",
      "     --------------------------------------  38.1/38.1 MB 11.5 MB/s eta 0:00:01\n",
      "     --------------------------------------  38.1/38.1 MB 11.5 MB/s eta 0:00:01\n",
      "     --------------------------------------  38.1/38.1 MB 11.5 MB/s eta 0:00:01\n",
      "     --------------------------------------  38.1/38.1 MB 11.5 MB/s eta 0:00:01\n",
      "     --------------------------------------  38.1/38.1 MB 11.5 MB/s eta 0:00:01\n",
      "     --------------------------------------  38.1/38.1 MB 11.5 MB/s eta 0:00:01\n",
      "     --------------------------------------  38.1/38.1 MB 11.5 MB/s eta 0:00:01\n",
      "     ---------------------------------------- 38.1/38.1 MB 7.0 MB/s eta 0:00:00\n",
      "Requirement already satisfied: numpy>=1.21.2 in c:\\anaconda\\lib\\site-packages (from opencv-python) (1.25.2)\n",
      "Installing collected packages: opencv-python\n",
      "Successfully installed opencv-python-4.8.1.78\n"
     ]
    },
    {
     "name": "stderr",
     "output_type": "stream",
     "text": [
      "'sudo' n�o � reconhecido como um comando interno\n",
      "ou externo, um programa oper�vel ou um arquivo em lotes.\n"
     ]
    },
    {
     "name": "stdout",
     "output_type": "stream",
     "text": [
      "Requirement already satisfied: pytesseract==0.3.9 in c:\\anaconda\\lib\\site-packages (0.3.9)\n",
      "Requirement already satisfied: packaging>=21.3 in c:\\users\\giovanny lira\\appdata\\roaming\\python\\python311\\site-packages (from pytesseract==0.3.9) (23.1)\n",
      "Requirement already satisfied: Pillow>=8.0.0 in c:\\anaconda\\lib\\site-packages (from pytesseract==0.3.9) (9.4.0)\n"
     ]
    }
   ],
   "source": [
    "!pip install opencv-python\n",
    "!sudo apt install tesseract-ocr\n",
    "!pip install pytesseract==0.3.9"
   ]
  },
  {
   "cell_type": "code",
   "execution_count": 5,
   "metadata": {},
   "outputs": [],
   "source": [
    "import pytesseract\n",
    "import numpy as np\n",
    "import cv2 "
   ]
  },
  {
   "cell_type": "code",
   "execution_count": 6,
   "metadata": {},
   "outputs": [
    {
     "name": "stderr",
     "output_type": "stream",
     "text": [
      "Cloning into 'text-recognize'...\n"
     ]
    }
   ],
   "source": [
    "! git clone https://github.com/sthemonica/text-recognize"
   ]
  },
  {
   "cell_type": "code",
   "execution_count": null,
   "metadata": {},
   "outputs": [],
   "source": []
  }
 ],
 "metadata": {
  "kernelspec": {
   "display_name": "base",
   "language": "python",
   "name": "python3"
  },
  "language_info": {
   "codemirror_mode": {
    "name": "ipython",
    "version": 3
   },
   "file_extension": ".py",
   "mimetype": "text/x-python",
   "name": "python",
   "nbconvert_exporter": "python",
   "pygments_lexer": "ipython3",
   "version": "3.11.3"
  },
  "orig_nbformat": 4
 },
 "nbformat": 4,
 "nbformat_minor": 2
}
